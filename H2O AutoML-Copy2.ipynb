{
 "cells": [
  {
   "cell_type": "code",
   "execution_count": 1,
   "metadata": {},
   "outputs": [
    {
     "data": {
      "text/plain": [
       "'import sys\\n\\n#!{sys.executable} -m conda create -n py36 python=3.6 anaconda -y\\n!{sys.executable} -m pip install install-jdk\\n!{sys.executable} -m pip install requests\\n!{sys.executable} -m pip install tabulate\\n!{sys.executable} -m pip install \"colorama>=0.3.8\"\\n!{sys.executable} -m pip install future\\n!{sys.executable} -m pip uninstall h2o\\n!{sys.executable} -m pip install -f http://h2o-release.s3.amazonaws.com/h2o/latest_stable_Py.html h2o'"
      ]
     },
     "execution_count": 1,
     "metadata": {},
     "output_type": "execute_result"
    }
   ],
   "source": [
    "\"\"\"import sys\n",
    "\n",
    "#!{sys.executable} -m conda create -n py36 python=3.6 anaconda -y\n",
    "!{sys.executable} -m pip install install-jdk\n",
    "!{sys.executable} -m pip install requests\n",
    "!{sys.executable} -m pip install tabulate\n",
    "!{sys.executable} -m pip install \"colorama>=0.3.8\"\n",
    "!{sys.executable} -m pip install future\n",
    "!{sys.executable} -m pip uninstall h2o\n",
    "!{sys.executable} -m pip install -f http://h2o-release.s3.amazonaws.com/h2o/latest_stable_Py.html h2o\"\"\""
   ]
  },
  {
   "cell_type": "code",
   "execution_count": 2,
   "metadata": {},
   "outputs": [],
   "source": [
    "import h2o\n",
    "import jdk\n",
    "from h2o.automl import H2OAutoML\n",
    "import numpy as np\n",
    "import matplotlib as plt\n",
    "import pandas as pd\n",
    "%matplotlib inline"
   ]
  },
  {
   "cell_type": "code",
   "execution_count": 3,
   "metadata": {},
   "outputs": [],
   "source": [
    "import os\n",
    "import h2o\n",
    "\n",
    "startup  = '/home/h2o/bin/aquarium_startup'\n",
    "shutdown = '/home/h2o/bin/aquarium_stop'\n",
    "\n",
    "if os.path.exists(startup):\n",
    "    os.system(startup)\n",
    "    local_url = 'http://localhost:54322/h2o'\n",
    "    aquarium = True\n",
    "else:\n",
    "    local_url = 'http://localhost:54322'\n",
    "    aquarium = False"
   ]
  },
  {
   "cell_type": "code",
   "execution_count": 4,
   "metadata": {
    "scrolled": true
   },
   "outputs": [
    {
     "name": "stdout",
     "output_type": "stream",
     "text": [
      "Checking whether there is an H2O instance running at http://localhost:54322 ..... not found.\n",
      "Attempting to start a local H2O server...\n",
      "  Java Version: openjdk version \"14\" 2020-03-17; OpenJDK Runtime Environment (build 14+36-1461); OpenJDK 64-Bit Server VM (build 14+36-1461, mixed mode, sharing)\n",
      "  Starting server from /opt/conda/lib/python3.6/site-packages/h2o/backend/bin/h2o.jar\n",
      "  Ice root: /tmp/tmpscivo0yy\n",
      "  JVM stdout: /tmp/tmpscivo0yy/h2o_jovyan_started_from_python.out\n",
      "  JVM stderr: /tmp/tmpscivo0yy/h2o_jovyan_started_from_python.err\n",
      "  Server is running at http://127.0.0.1:54323\n",
      "Connecting to H2O server at http://127.0.0.1:54323 ... successful.\n"
     ]
    },
    {
     "data": {
      "text/html": [
       "<div style=\"overflow:auto\"><table style=\"width:50%\"><tr><td>H2O_cluster_uptime:</td>\n",
       "<td>03 secs</td></tr>\n",
       "<tr><td>H2O_cluster_timezone:</td>\n",
       "<td>Etc/UTC</td></tr>\n",
       "<tr><td>H2O_data_parsing_timezone:</td>\n",
       "<td>UTC</td></tr>\n",
       "<tr><td>H2O_cluster_version:</td>\n",
       "<td>3.32.0.5</td></tr>\n",
       "<tr><td>H2O_cluster_version_age:</td>\n",
       "<td>2 days </td></tr>\n",
       "<tr><td>H2O_cluster_name:</td>\n",
       "<td>H2O_from_python_jovyan_brap8w</td></tr>\n",
       "<tr><td>H2O_cluster_total_nodes:</td>\n",
       "<td>1</td></tr>\n",
       "<tr><td>H2O_cluster_free_memory:</td>\n",
       "<td>2.322 Gb</td></tr>\n",
       "<tr><td>H2O_cluster_total_cores:</td>\n",
       "<td>6</td></tr>\n",
       "<tr><td>H2O_cluster_allowed_cores:</td>\n",
       "<td>6</td></tr>\n",
       "<tr><td>H2O_cluster_status:</td>\n",
       "<td>accepting new members, healthy</td></tr>\n",
       "<tr><td>H2O_connection_url:</td>\n",
       "<td>http://127.0.0.1:54323</td></tr>\n",
       "<tr><td>H2O_connection_proxy:</td>\n",
       "<td>{\"http\": null, \"https\": null}</td></tr>\n",
       "<tr><td>H2O_internal_security:</td>\n",
       "<td>False</td></tr>\n",
       "<tr><td>H2O_API_Extensions:</td>\n",
       "<td>Amazon S3, XGBoost, Algos, AutoML, Core V3, TargetEncoder, Core V4</td></tr>\n",
       "<tr><td>Python_version:</td>\n",
       "<td>3.6.7 final</td></tr></table></div>"
      ],
      "text/plain": [
       "--------------------------  ------------------------------------------------------------------\n",
       "H2O_cluster_uptime:         03 secs\n",
       "H2O_cluster_timezone:       Etc/UTC\n",
       "H2O_data_parsing_timezone:  UTC\n",
       "H2O_cluster_version:        3.32.0.5\n",
       "H2O_cluster_version_age:    2 days\n",
       "H2O_cluster_name:           H2O_from_python_jovyan_brap8w\n",
       "H2O_cluster_total_nodes:    1\n",
       "H2O_cluster_free_memory:    2.322 Gb\n",
       "H2O_cluster_total_cores:    6\n",
       "H2O_cluster_allowed_cores:  6\n",
       "H2O_cluster_status:         accepting new members, healthy\n",
       "H2O_connection_url:         http://127.0.0.1:54323\n",
       "H2O_connection_proxy:       {\"http\": null, \"https\": null}\n",
       "H2O_internal_security:      False\n",
       "H2O_API_Extensions:         Amazon S3, XGBoost, Algos, AutoML, Core V3, TargetEncoder, Core V4\n",
       "Python_version:             3.6.7 final\n",
       "--------------------------  ------------------------------------------------------------------"
      ]
     },
     "metadata": {},
     "output_type": "display_data"
    }
   ],
   "source": [
    "h2o.init(url=local_url)"
   ]
  },
  {
   "cell_type": "code",
   "execution_count": null,
   "metadata": {},
   "outputs": [
    {
     "name": "stdout",
     "output_type": "stream",
     "text": [
      "wardsPlaced - TOPB\n",
      "Parse progress: |█████████████████████████████████████████████████████████| 100%\n",
      "AutoML progress: |█████████"
     ]
    }
   ],
   "source": [
    "array_var_obj = ['wardsPlaced - TOPB', 'wardsPlaced - JGB', 'wardsPlaced - MIDB', 'wardsPlaced - ADCB', 'wardsPlaced - SUPPB', 'wardsPlaced - TOPR', 'wardsPlaced - JGR', 'wardsPlaced - MIDR', 'wardsPlaced - ADCR', 'wardsPlaced - SUPPR']\n",
    "clean = {}\n",
    "WOE = {}\n",
    "WOESUPPR = {}\n",
    "\n",
    "for var_obj in array_var_obj:\n",
    "    print(var_obj)\n",
    "    dfWOE = h2o.import_file('FinalDataframeWOE'+ var_obj +'.csv')\n",
    "    dfWOE = dfWOE.drop(\"C1\")\n",
    "    \n",
    "    trainWOE, testWOE = dfWOE.split_frame([0.8])\n",
    "    \n",
    "    yWOE = var_obj\n",
    "    ignoreWOE = [var_obj] \n",
    "    xWOE = list(set(trainWOE.names) - set(ignoreWOE))\n",
    "    \n",
    "    amlWOE = H2OAutoML(max_runtime_secs=3600, project_name='classification', balance_classes=True)\n",
    "    amlWOE.train(x=xWOE, y=yWOE, training_frame=trainWOE)\n",
    "    WOE[var_obj] = amlWOE\n",
    "    \n",
    "    print(\"-------------------------------------------------------------------------\")"
   ]
  },
  {
   "cell_type": "code",
   "execution_count": null,
   "metadata": {},
   "outputs": [],
   "source": []
  },
  {
   "cell_type": "code",
   "execution_count": null,
   "metadata": {},
   "outputs": [],
   "source": []
  }
 ],
 "metadata": {
  "kernelspec": {
   "display_name": "Python 3",
   "language": "python",
   "name": "python3"
  },
  "language_info": {
   "codemirror_mode": {
    "name": "ipython",
    "version": 3
   },
   "file_extension": ".py",
   "mimetype": "text/x-python",
   "name": "python",
   "nbconvert_exporter": "python",
   "pygments_lexer": "ipython3",
   "version": "3.6.7"
  }
 },
 "nbformat": 4,
 "nbformat_minor": 2
}
